{
 "cells": [
  {
   "cell_type": "code",
   "execution_count": 41,
   "id": "571dad87-a0d5-404f-96c7-45957ebc4cef",
   "metadata": {},
   "outputs": [
    {
     "data": {
      "text/html": [
       "<div>\n",
       "<style scoped>\n",
       "    .dataframe tbody tr th:only-of-type {\n",
       "        vertical-align: middle;\n",
       "    }\n",
       "\n",
       "    .dataframe tbody tr th {\n",
       "        vertical-align: top;\n",
       "    }\n",
       "\n",
       "    .dataframe thead th {\n",
       "        text-align: right;\n",
       "    }\n",
       "</style>\n",
       "<table border=\"1\" class=\"dataframe\">\n",
       "  <thead>\n",
       "    <tr style=\"text-align: right;\">\n",
       "      <th></th>\n",
       "      <th>Unnamed: 0</th>\n",
       "      <th>Rating</th>\n",
       "      <th>Seating Capacity</th>\n",
       "      <th>Average Meal Price</th>\n",
       "      <th>Marketing Budget</th>\n",
       "      <th>Social Media Followers</th>\n",
       "      <th>Chef Experience Years</th>\n",
       "      <th>Number of Reviews</th>\n",
       "      <th>Avg Review Length</th>\n",
       "      <th>Ambience Score</th>\n",
       "      <th>...</th>\n",
       "      <th>Weekday Reservations</th>\n",
       "      <th>Revenue</th>\n",
       "      <th>Location_Rural</th>\n",
       "      <th>Location_Suburban</th>\n",
       "      <th>Cuisine_French</th>\n",
       "      <th>Cuisine_Indian</th>\n",
       "      <th>Cuisine_Italian</th>\n",
       "      <th>Cuisine_Japanese</th>\n",
       "      <th>Cuisine_Mexican</th>\n",
       "      <th>Parking Availability_Yes</th>\n",
       "    </tr>\n",
       "  </thead>\n",
       "  <tbody>\n",
       "    <tr>\n",
       "      <th>0</th>\n",
       "      <td>0</td>\n",
       "      <td>4.0</td>\n",
       "      <td>38</td>\n",
       "      <td>73.98</td>\n",
       "      <td>2224.0</td>\n",
       "      <td>23406.0</td>\n",
       "      <td>13</td>\n",
       "      <td>185</td>\n",
       "      <td>161.924906</td>\n",
       "      <td>1.3</td>\n",
       "      <td>...</td>\n",
       "      <td>4</td>\n",
       "      <td>6.389455e+05</td>\n",
       "      <td>1</td>\n",
       "      <td>0</td>\n",
       "      <td>0</td>\n",
       "      <td>0</td>\n",
       "      <td>0</td>\n",
       "      <td>1</td>\n",
       "      <td>0</td>\n",
       "      <td>1</td>\n",
       "    </tr>\n",
       "    <tr>\n",
       "      <th>1</th>\n",
       "      <td>1</td>\n",
       "      <td>3.2</td>\n",
       "      <td>76</td>\n",
       "      <td>28.11</td>\n",
       "      <td>4416.0</td>\n",
       "      <td>42741.0</td>\n",
       "      <td>8</td>\n",
       "      <td>533</td>\n",
       "      <td>148.759717</td>\n",
       "      <td>2.6</td>\n",
       "      <td>...</td>\n",
       "      <td>6</td>\n",
       "      <td>4.902078e+05</td>\n",
       "      <td>0</td>\n",
       "      <td>0</td>\n",
       "      <td>0</td>\n",
       "      <td>0</td>\n",
       "      <td>0</td>\n",
       "      <td>0</td>\n",
       "      <td>1</td>\n",
       "      <td>1</td>\n",
       "    </tr>\n",
       "    <tr>\n",
       "      <th>2</th>\n",
       "      <td>2</td>\n",
       "      <td>4.7</td>\n",
       "      <td>48</td>\n",
       "      <td>48.29</td>\n",
       "      <td>2796.0</td>\n",
       "      <td>37285.0</td>\n",
       "      <td>18</td>\n",
       "      <td>853</td>\n",
       "      <td>56.849189</td>\n",
       "      <td>5.3</td>\n",
       "      <td>...</td>\n",
       "      <td>14</td>\n",
       "      <td>5.413686e+05</td>\n",
       "      <td>1</td>\n",
       "      <td>0</td>\n",
       "      <td>0</td>\n",
       "      <td>0</td>\n",
       "      <td>1</td>\n",
       "      <td>0</td>\n",
       "      <td>0</td>\n",
       "      <td>0</td>\n",
       "    </tr>\n",
       "    <tr>\n",
       "      <th>3</th>\n",
       "      <td>3</td>\n",
       "      <td>4.4</td>\n",
       "      <td>34</td>\n",
       "      <td>51.55</td>\n",
       "      <td>1167.0</td>\n",
       "      <td>15214.0</td>\n",
       "      <td>13</td>\n",
       "      <td>82</td>\n",
       "      <td>205.433265</td>\n",
       "      <td>4.6</td>\n",
       "      <td>...</td>\n",
       "      <td>17</td>\n",
       "      <td>4.045568e+05</td>\n",
       "      <td>1</td>\n",
       "      <td>0</td>\n",
       "      <td>0</td>\n",
       "      <td>0</td>\n",
       "      <td>1</td>\n",
       "      <td>0</td>\n",
       "      <td>0</td>\n",
       "      <td>1</td>\n",
       "    </tr>\n",
       "    <tr>\n",
       "      <th>4</th>\n",
       "      <td>4</td>\n",
       "      <td>4.9</td>\n",
       "      <td>88</td>\n",
       "      <td>75.98</td>\n",
       "      <td>3639.0</td>\n",
       "      <td>40171.0</td>\n",
       "      <td>9</td>\n",
       "      <td>78</td>\n",
       "      <td>241.681584</td>\n",
       "      <td>8.6</td>\n",
       "      <td>...</td>\n",
       "      <td>26</td>\n",
       "      <td>1.350758e+06</td>\n",
       "      <td>0</td>\n",
       "      <td>0</td>\n",
       "      <td>0</td>\n",
       "      <td>0</td>\n",
       "      <td>0</td>\n",
       "      <td>1</td>\n",
       "      <td>0</td>\n",
       "      <td>0</td>\n",
       "    </tr>\n",
       "    <tr>\n",
       "      <th>...</th>\n",
       "      <td>...</td>\n",
       "      <td>...</td>\n",
       "      <td>...</td>\n",
       "      <td>...</td>\n",
       "      <td>...</td>\n",
       "      <td>...</td>\n",
       "      <td>...</td>\n",
       "      <td>...</td>\n",
       "      <td>...</td>\n",
       "      <td>...</td>\n",
       "      <td>...</td>\n",
       "      <td>...</td>\n",
       "      <td>...</td>\n",
       "      <td>...</td>\n",
       "      <td>...</td>\n",
       "      <td>...</td>\n",
       "      <td>...</td>\n",
       "      <td>...</td>\n",
       "      <td>...</td>\n",
       "      <td>...</td>\n",
       "      <td>...</td>\n",
       "    </tr>\n",
       "    <tr>\n",
       "      <th>8363</th>\n",
       "      <td>8363</td>\n",
       "      <td>3.4</td>\n",
       "      <td>54</td>\n",
       "      <td>34.85</td>\n",
       "      <td>1102.0</td>\n",
       "      <td>11298.0</td>\n",
       "      <td>11</td>\n",
       "      <td>380</td>\n",
       "      <td>253.919515</td>\n",
       "      <td>9.5</td>\n",
       "      <td>...</td>\n",
       "      <td>0</td>\n",
       "      <td>4.346535e+05</td>\n",
       "      <td>0</td>\n",
       "      <td>1</td>\n",
       "      <td>0</td>\n",
       "      <td>1</td>\n",
       "      <td>0</td>\n",
       "      <td>0</td>\n",
       "      <td>0</td>\n",
       "      <td>1</td>\n",
       "    </tr>\n",
       "    <tr>\n",
       "      <th>8364</th>\n",
       "      <td>8364</td>\n",
       "      <td>3.7</td>\n",
       "      <td>49</td>\n",
       "      <td>36.88</td>\n",
       "      <td>1988.0</td>\n",
       "      <td>20432.0</td>\n",
       "      <td>9</td>\n",
       "      <td>713</td>\n",
       "      <td>175.590195</td>\n",
       "      <td>2.7</td>\n",
       "      <td>...</td>\n",
       "      <td>21</td>\n",
       "      <td>4.149779e+05</td>\n",
       "      <td>1</td>\n",
       "      <td>0</td>\n",
       "      <td>0</td>\n",
       "      <td>1</td>\n",
       "      <td>0</td>\n",
       "      <td>0</td>\n",
       "      <td>0</td>\n",
       "      <td>0</td>\n",
       "    </tr>\n",
       "    <tr>\n",
       "      <th>8365</th>\n",
       "      <td>8365</td>\n",
       "      <td>4.7</td>\n",
       "      <td>88</td>\n",
       "      <td>46.87</td>\n",
       "      <td>5949.0</td>\n",
       "      <td>63945.0</td>\n",
       "      <td>6</td>\n",
       "      <td>436</td>\n",
       "      <td>222.953647</td>\n",
       "      <td>4.8</td>\n",
       "      <td>...</td>\n",
       "      <td>21</td>\n",
       "      <td>9.303959e+05</td>\n",
       "      <td>0</td>\n",
       "      <td>0</td>\n",
       "      <td>0</td>\n",
       "      <td>0</td>\n",
       "      <td>1</td>\n",
       "      <td>0</td>\n",
       "      <td>0</td>\n",
       "      <td>1</td>\n",
       "    </tr>\n",
       "    <tr>\n",
       "      <th>8366</th>\n",
       "      <td>8366</td>\n",
       "      <td>3.1</td>\n",
       "      <td>31</td>\n",
       "      <td>44.53</td>\n",
       "      <td>707.0</td>\n",
       "      <td>7170.0</td>\n",
       "      <td>1</td>\n",
       "      <td>729</td>\n",
       "      <td>178.482851</td>\n",
       "      <td>6.1</td>\n",
       "      <td>...</td>\n",
       "      <td>21</td>\n",
       "      <td>3.114935e+05</td>\n",
       "      <td>1</td>\n",
       "      <td>0</td>\n",
       "      <td>0</td>\n",
       "      <td>0</td>\n",
       "      <td>0</td>\n",
       "      <td>0</td>\n",
       "      <td>0</td>\n",
       "      <td>0</td>\n",
       "    </tr>\n",
       "    <tr>\n",
       "      <th>8367</th>\n",
       "      <td>8367</td>\n",
       "      <td>4.0</td>\n",
       "      <td>33</td>\n",
       "      <td>71.07</td>\n",
       "      <td>2003.0</td>\n",
       "      <td>24268.0</td>\n",
       "      <td>8</td>\n",
       "      <td>197</td>\n",
       "      <td>151.838065</td>\n",
       "      <td>5.9</td>\n",
       "      <td>...</td>\n",
       "      <td>12</td>\n",
       "      <td>5.341430e+05</td>\n",
       "      <td>1</td>\n",
       "      <td>0</td>\n",
       "      <td>0</td>\n",
       "      <td>0</td>\n",
       "      <td>0</td>\n",
       "      <td>1</td>\n",
       "      <td>0</td>\n",
       "      <td>1</td>\n",
       "    </tr>\n",
       "  </tbody>\n",
       "</table>\n",
       "<p>8368 rows × 22 columns</p>\n",
       "</div>"
      ],
      "text/plain": [
       "      Unnamed: 0  Rating  Seating Capacity  Average Meal Price  \\\n",
       "0              0     4.0                38               73.98   \n",
       "1              1     3.2                76               28.11   \n",
       "2              2     4.7                48               48.29   \n",
       "3              3     4.4                34               51.55   \n",
       "4              4     4.9                88               75.98   \n",
       "...          ...     ...               ...                 ...   \n",
       "8363        8363     3.4                54               34.85   \n",
       "8364        8364     3.7                49               36.88   \n",
       "8365        8365     4.7                88               46.87   \n",
       "8366        8366     3.1                31               44.53   \n",
       "8367        8367     4.0                33               71.07   \n",
       "\n",
       "      Marketing Budget  Social Media Followers  Chef Experience Years  \\\n",
       "0               2224.0                 23406.0                     13   \n",
       "1               4416.0                 42741.0                      8   \n",
       "2               2796.0                 37285.0                     18   \n",
       "3               1167.0                 15214.0                     13   \n",
       "4               3639.0                 40171.0                      9   \n",
       "...                ...                     ...                    ...   \n",
       "8363            1102.0                 11298.0                     11   \n",
       "8364            1988.0                 20432.0                      9   \n",
       "8365            5949.0                 63945.0                      6   \n",
       "8366             707.0                  7170.0                      1   \n",
       "8367            2003.0                 24268.0                      8   \n",
       "\n",
       "      Number of Reviews  Avg Review Length  Ambience Score  ...  \\\n",
       "0                   185         161.924906             1.3  ...   \n",
       "1                   533         148.759717             2.6  ...   \n",
       "2                   853          56.849189             5.3  ...   \n",
       "3                    82         205.433265             4.6  ...   \n",
       "4                    78         241.681584             8.6  ...   \n",
       "...                 ...                ...             ...  ...   \n",
       "8363                380         253.919515             9.5  ...   \n",
       "8364                713         175.590195             2.7  ...   \n",
       "8365                436         222.953647             4.8  ...   \n",
       "8366                729         178.482851             6.1  ...   \n",
       "8367                197         151.838065             5.9  ...   \n",
       "\n",
       "      Weekday Reservations       Revenue  Location_Rural  Location_Suburban  \\\n",
       "0                        4  6.389455e+05               1                  0   \n",
       "1                        6  4.902078e+05               0                  0   \n",
       "2                       14  5.413686e+05               1                  0   \n",
       "3                       17  4.045568e+05               1                  0   \n",
       "4                       26  1.350758e+06               0                  0   \n",
       "...                    ...           ...             ...                ...   \n",
       "8363                     0  4.346535e+05               0                  1   \n",
       "8364                    21  4.149779e+05               1                  0   \n",
       "8365                    21  9.303959e+05               0                  0   \n",
       "8366                    21  3.114935e+05               1                  0   \n",
       "8367                    12  5.341430e+05               1                  0   \n",
       "\n",
       "      Cuisine_French  Cuisine_Indian  Cuisine_Italian  Cuisine_Japanese  \\\n",
       "0                  0               0                0                 1   \n",
       "1                  0               0                0                 0   \n",
       "2                  0               0                1                 0   \n",
       "3                  0               0                1                 0   \n",
       "4                  0               0                0                 1   \n",
       "...              ...             ...              ...               ...   \n",
       "8363               0               1                0                 0   \n",
       "8364               0               1                0                 0   \n",
       "8365               0               0                1                 0   \n",
       "8366               0               0                0                 0   \n",
       "8367               0               0                0                 1   \n",
       "\n",
       "      Cuisine_Mexican  Parking Availability_Yes  \n",
       "0                   0                         1  \n",
       "1                   1                         1  \n",
       "2                   0                         0  \n",
       "3                   0                         1  \n",
       "4                   0                         0  \n",
       "...               ...                       ...  \n",
       "8363                0                         1  \n",
       "8364                0                         0  \n",
       "8365                0                         1  \n",
       "8366                0                         0  \n",
       "8367                0                         1  \n",
       "\n",
       "[8368 rows x 22 columns]"
      ]
     },
     "execution_count": 41,
     "metadata": {},
     "output_type": "execute_result"
    }
   ],
   "source": [
    "import pandas as pd\n",
    "dataset = pd.read_csv(\"Preprocessed_RestaruantData.csv\")\n",
    "dataset"
   ]
  },
  {
   "cell_type": "code",
   "execution_count": 42,
   "id": "d6e2a734-73d0-48ec-aea7-635b6a50f4cd",
   "metadata": {},
   "outputs": [
    {
     "data": {
      "text/plain": [
       "Index(['Unnamed: 0', 'Rating', 'Seating Capacity', 'Average Meal Price',\n",
       "       'Marketing Budget', 'Social Media Followers', 'Chef Experience Years',\n",
       "       'Number of Reviews', 'Avg Review Length', 'Ambience Score',\n",
       "       'Service Quality Score', 'Weekend Reservations', 'Weekday Reservations',\n",
       "       'Revenue', 'Location_Rural', 'Location_Suburban', 'Cuisine_French',\n",
       "       'Cuisine_Indian', 'Cuisine_Italian', 'Cuisine_Japanese',\n",
       "       'Cuisine_Mexican', 'Parking Availability_Yes'],\n",
       "      dtype='object')"
      ]
     },
     "execution_count": 42,
     "metadata": {},
     "output_type": "execute_result"
    }
   ],
   "source": [
    "dataset.columns"
   ]
  },
  {
   "cell_type": "markdown",
   "id": "78faf566-8b3f-4f48-b586-39da63ca2483",
   "metadata": {},
   "source": [
    "# Spilt input and output"
   ]
  },
  {
   "cell_type": "code",
   "execution_count": 43,
   "id": "2fd1a506-e50e-4b2e-851c-d8ded8274d98",
   "metadata": {},
   "outputs": [],
   "source": [
    "indep = dataset[['Rating', 'Seating Capacity', 'Average Meal Price',\n",
    "       'Marketing Budget', 'Social Media Followers', 'Chef Experience Years',\n",
    "       'Number of Reviews', 'Avg Review Length', 'Ambience Score',\n",
    "       'Service Quality Score', 'Weekend Reservations', 'Weekday Reservations', 'Location_Rural', 'Location_Suburban', 'Cuisine_French',\n",
    "       'Cuisine_Indian', 'Cuisine_Italian', 'Cuisine_Japanese',\n",
    "       'Cuisine_Mexican', 'Parking Availability_Yes']]\n",
    "dep = dataset[['Revenue']]"
   ]
  },
  {
   "cell_type": "markdown",
   "id": "3e9493f8-759f-4f01-8d3f-94cd3e304bfc",
   "metadata": {},
   "source": [
    "# Feature Selection"
   ]
  },
  {
   "cell_type": "code",
   "execution_count": 44,
   "id": "02a2b11d-d730-4dcf-b778-b739a6ef4a3e",
   "metadata": {},
   "outputs": [
    {
     "name": "stderr",
     "output_type": "stream",
     "text": [
      "C:\\Users\\nravi378\\AppData\\Local\\anaconda3\\envs\\art\\lib\\site-packages\\sklearn\\utils\\validation.py:1300: DataConversionWarning: A column-vector y was passed when a 1d array was expected. Please change the shape of y to (n_samples, ), for example using ravel().\n",
      "  y = column_or_1d(y, warn=True)\n"
     ]
    }
   ],
   "source": [
    "from sklearn.feature_selection import SelectKBest\n",
    "from sklearn.feature_selection import f_regression\n",
    "test = SelectKBest(score_func=f_regression, k=4)\n",
    "fit1= test.fit(indep,dep)\n",
    "# summarize scores       \n",
    "selectk_features = fit1.transform(indep)\n",
    "mask = fit1.get_support() #get_support() returns a boolean array where each element is True if the corresponding feature was selected and False otherwise.\n",
    "selected_features = indep.columns[mask] #The boolean mask is used to filter these column names, so only the names of the selected features are retaine"
   ]
  },
  {
   "cell_type": "markdown",
   "id": "7cd13b11-d972-4274-be79-f4c89e006e74",
   "metadata": {},
   "source": [
    "# Standardisation for input and output"
   ]
  },
  {
   "cell_type": "code",
   "execution_count": 45,
   "id": "3cf7afde-73d6-4451-b42e-029f34d906ac",
   "metadata": {},
   "outputs": [],
   "source": [
    "from sklearn.preprocessing import StandardScaler\n",
    "sc = StandardScaler()\n",
    "indep_X= sc.fit_transform(selectk_features)\n",
    "\n",
    "scy = StandardScaler()\n",
    "dep_Y = scy.fit_transform(dep)"
   ]
  },
  {
   "cell_type": "markdown",
   "id": "375b93b9-dba8-4ab8-a77a-1cea53584e9c",
   "metadata": {},
   "source": [
    "# Model Creation"
   ]
  },
  {
   "cell_type": "code",
   "execution_count": 46,
   "id": "ff2ce70e-79cb-47b3-b04d-69d2ac307b93",
   "metadata": {},
   "outputs": [
    {
     "name": "stdout",
     "output_type": "stream",
     "text": [
      "Fitting 5 folds for each of 8 candidates, totalling 40 fits\n",
      "0.9985354093286357\n"
     ]
    },
    {
     "name": "stderr",
     "output_type": "stream",
     "text": [
      "C:\\Users\\nravi378\\AppData\\Local\\anaconda3\\envs\\art\\lib\\site-packages\\sklearn\\utils\\validation.py:1300: DataConversionWarning: A column-vector y was passed when a 1d array was expected. Please change the shape of y to (n_samples, ), for example using ravel().\n",
      "  y = column_or_1d(y, warn=True)\n"
     ]
    }
   ],
   "source": [
    "from sklearn.svm import SVR\n",
    "from sklearn.model_selection import GridSearchCV\n",
    "param_grid = {'kernel':['rbf','sigmoid'],'C':[0.1,10,100,1000]}\n",
    "grid = GridSearchCV(SVR(),param_grid,refit = True,verbose=3,n_jobs=-1)\n",
    "SVR_regressor=grid.fit(indep_X,dep_Y)\n",
    "SVR = SVR_regressor.best_score_\n",
    "print(SVR)"
   ]
  },
  {
   "cell_type": "code",
   "execution_count": 47,
   "id": "63c140ab-c439-49e0-9d9e-c184be260d85",
   "metadata": {},
   "outputs": [
    {
     "name": "stdout",
     "output_type": "stream",
     "text": [
      "Fitting 5 folds for each of 1 candidates, totalling 5 fits\n",
      "0.9591252720412127\n"
     ]
    }
   ],
   "source": [
    "from sklearn.linear_model import LinearRegression\n",
    "param_grid = {}\n",
    "grid3 = GridSearchCV(LinearRegression(),param_grid,refit = True,verbose=3,n_jobs=-1)\n",
    "MLR_regressor=grid3.fit(indep_X,dep_Y)\n",
    "MLR = MLR_regressor.best_score_\n",
    "print(MLR)"
   ]
  },
  {
   "cell_type": "code",
   "execution_count": 48,
   "id": "14946017-8acf-422e-bb53-d4d9585101cd",
   "metadata": {},
   "outputs": [
    {
     "name": "stdout",
     "output_type": "stream",
     "text": [
      "Fitting 5 folds for each of 12 candidates, totalling 60 fits\n"
     ]
    },
    {
     "name": "stderr",
     "output_type": "stream",
     "text": [
      "C:\\Users\\nravi378\\AppData\\Local\\anaconda3\\envs\\art\\lib\\site-packages\\sklearn\\model_selection\\_validation.py:547: FitFailedWarning: \n",
      "15 fits failed out of a total of 60.\n",
      "The score on these train-test partitions for these parameters will be set to nan.\n",
      "If these failures are not expected, you can try to debug them by setting error_score='raise'.\n",
      "\n",
      "Below are more details about the failures:\n",
      "--------------------------------------------------------------------------------\n",
      "15 fits failed with the following error:\n",
      "Traceback (most recent call last):\n",
      "  File \"C:\\Users\\nravi378\\AppData\\Local\\anaconda3\\envs\\art\\lib\\site-packages\\sklearn\\model_selection\\_validation.py\", line 895, in _fit_and_score\n",
      "    estimator.fit(X_train, y_train, **fit_params)\n",
      "  File \"C:\\Users\\nravi378\\AppData\\Local\\anaconda3\\envs\\art\\lib\\site-packages\\sklearn\\base.py\", line 1474, in wrapper\n",
      "    return fit_method(estimator, *args, **kwargs)\n",
      "  File \"C:\\Users\\nravi378\\AppData\\Local\\anaconda3\\envs\\art\\lib\\site-packages\\sklearn\\ensemble\\_forest.py\", line 409, in fit\n",
      "    raise ValueError(\n",
      "ValueError: Some value(s) of y are negative which is not allowed for Poisson regression.\n",
      "\n",
      "  warnings.warn(some_fits_failed_message, FitFailedWarning)\n",
      "C:\\Users\\nravi378\\AppData\\Local\\anaconda3\\envs\\art\\lib\\site-packages\\sklearn\\model_selection\\_search.py:1051: UserWarning: One or more of the test scores are non-finite: [0.99900844 0.99905038 0.9990617  0.99901757 0.99905891 0.99907396\n",
      " 0.99900745 0.999049   0.99906093        nan        nan        nan]\n",
      "  warnings.warn(\n",
      "C:\\Users\\nravi378\\AppData\\Local\\anaconda3\\envs\\art\\lib\\site-packages\\sklearn\\base.py:1474: DataConversionWarning: A column-vector y was passed when a 1d array was expected. Please change the shape of y to (n_samples,), for example using ravel().\n",
      "  return fit_method(estimator, *args, **kwargs)\n"
     ]
    },
    {
     "name": "stdout",
     "output_type": "stream",
     "text": [
      "0.9990739590368511\n"
     ]
    }
   ],
   "source": [
    "from sklearn.ensemble import RandomForestRegressor\n",
    "param_grid = { 'criterion' : [ 'squared_error' , 'absolute_error', 'friedman_mse', 'poisson'] , 'n_estimators':[20,50,100] ,'random_state' : [0] }\n",
    "grid1 = GridSearchCV(RandomForestRegressor(),param_grid,refit = True,verbose=3,n_jobs=-1)\n",
    "RF_regressor=grid1.fit(indep_X,dep_Y)\n",
    "RF = RF_regressor.best_score_\n",
    "print(RF)"
   ]
  },
  {
   "cell_type": "code",
   "execution_count": 49,
   "id": "35f549c9-f6dd-46ea-97d0-4a57424fedb8",
   "metadata": {},
   "outputs": [
    {
     "name": "stdout",
     "output_type": "stream",
     "text": [
      "Fitting 5 folds for each of 8 candidates, totalling 40 fits\n",
      "0.9982197943496057\n"
     ]
    },
    {
     "name": "stderr",
     "output_type": "stream",
     "text": [
      "C:\\Users\\nravi378\\AppData\\Local\\anaconda3\\envs\\art\\lib\\site-packages\\sklearn\\model_selection\\_validation.py:547: FitFailedWarning: \n",
      "10 fits failed out of a total of 40.\n",
      "The score on these train-test partitions for these parameters will be set to nan.\n",
      "If these failures are not expected, you can try to debug them by setting error_score='raise'.\n",
      "\n",
      "Below are more details about the failures:\n",
      "--------------------------------------------------------------------------------\n",
      "10 fits failed with the following error:\n",
      "Traceback (most recent call last):\n",
      "  File \"C:\\Users\\nravi378\\AppData\\Local\\anaconda3\\envs\\art\\lib\\site-packages\\sklearn\\model_selection\\_validation.py\", line 895, in _fit_and_score\n",
      "    estimator.fit(X_train, y_train, **fit_params)\n",
      "  File \"C:\\Users\\nravi378\\AppData\\Local\\anaconda3\\envs\\art\\lib\\site-packages\\sklearn\\base.py\", line 1474, in wrapper\n",
      "    return fit_method(estimator, *args, **kwargs)\n",
      "  File \"C:\\Users\\nravi378\\AppData\\Local\\anaconda3\\envs\\art\\lib\\site-packages\\sklearn\\tree\\_classes.py\", line 1377, in fit\n",
      "    super()._fit(\n",
      "  File \"C:\\Users\\nravi378\\AppData\\Local\\anaconda3\\envs\\art\\lib\\site-packages\\sklearn\\tree\\_classes.py\", line 269, in _fit\n",
      "    raise ValueError(\n",
      "ValueError: Some value(s) of y are negative which is not allowed for Poisson regression.\n",
      "\n",
      "  warnings.warn(some_fits_failed_message, FitFailedWarning)\n",
      "C:\\Users\\nravi378\\AppData\\Local\\anaconda3\\envs\\art\\lib\\site-packages\\sklearn\\model_selection\\_search.py:1051: UserWarning: One or more of the test scores are non-finite: [0.99818297 0.99821979 0.99812516 0.99815477 0.99816284 0.99821657\n",
      "        nan        nan]\n",
      "  warnings.warn(\n"
     ]
    }
   ],
   "source": [
    "from sklearn.tree import DecisionTreeRegressor\n",
    "param_grid = { 'criterion' : [ 'squared_error' , 'absolute_error', 'friedman_mse', 'poisson'] , 'splitter': ['best', 'random'] }\n",
    "grid2 = GridSearchCV(DecisionTreeRegressor(),param_grid,refit = True,verbose=3,n_jobs=-1)\n",
    "DT_regressor=grid2.fit(indep_X,dep_Y)\n",
    "DT = DT_regressor.best_score_\n",
    "print(DT)"
   ]
  },
  {
   "cell_type": "code",
   "execution_count": 50,
   "id": "b54635e2-17f0-4b03-811a-c3b8a96dbca5",
   "metadata": {},
   "outputs": [
    {
     "name": "stderr",
     "output_type": "stream",
     "text": [
      "C:\\Users\\nravi378\\AppData\\Local\\Temp\\ipykernel_13704\\3972211358.py:3: FutureWarning: ChainedAssignmentError: behaviour will change in pandas 3.0!\n",
      "You are setting values through chained assignment. Currently this works in certain cases, but when using Copy-on-Write (which will become the default behaviour in pandas 3.0) this will never work to update the original DataFrame or Series, because the intermediate object on which we are setting values will behave as a copy.\n",
      "A typical example is when you are setting values in a column of a DataFrame, like:\n",
      "\n",
      "df[\"col\"][row_indexer] = value\n",
      "\n",
      "Use `df.loc[row_indexer, \"col\"] = values` instead, to perform the assignment in a single step and ensure this keeps updating the original `df`.\n",
      "\n",
      "See the caveats in the documentation: https://pandas.pydata.org/pandas-docs/stable/user_guide/indexing.html#returning-a-view-versus-a-copy\n",
      "\n",
      "  ResultTable[\"MLR\"][\"f1_regression\"] = MLR\n",
      "C:\\Users\\nravi378\\AppData\\Local\\Temp\\ipykernel_13704\\3972211358.py:4: FutureWarning: ChainedAssignmentError: behaviour will change in pandas 3.0!\n",
      "You are setting values through chained assignment. Currently this works in certain cases, but when using Copy-on-Write (which will become the default behaviour in pandas 3.0) this will never work to update the original DataFrame or Series, because the intermediate object on which we are setting values will behave as a copy.\n",
      "A typical example is when you are setting values in a column of a DataFrame, like:\n",
      "\n",
      "df[\"col\"][row_indexer] = value\n",
      "\n",
      "Use `df.loc[row_indexer, \"col\"] = values` instead, to perform the assignment in a single step and ensure this keeps updating the original `df`.\n",
      "\n",
      "See the caveats in the documentation: https://pandas.pydata.org/pandas-docs/stable/user_guide/indexing.html#returning-a-view-versus-a-copy\n",
      "\n",
      "  ResultTable[\"SVM\"][\"f1_regression\"] = SVR\n",
      "C:\\Users\\nravi378\\AppData\\Local\\Temp\\ipykernel_13704\\3972211358.py:5: FutureWarning: ChainedAssignmentError: behaviour will change in pandas 3.0!\n",
      "You are setting values through chained assignment. Currently this works in certain cases, but when using Copy-on-Write (which will become the default behaviour in pandas 3.0) this will never work to update the original DataFrame or Series, because the intermediate object on which we are setting values will behave as a copy.\n",
      "A typical example is when you are setting values in a column of a DataFrame, like:\n",
      "\n",
      "df[\"col\"][row_indexer] = value\n",
      "\n",
      "Use `df.loc[row_indexer, \"col\"] = values` instead, to perform the assignment in a single step and ensure this keeps updating the original `df`.\n",
      "\n",
      "See the caveats in the documentation: https://pandas.pydata.org/pandas-docs/stable/user_guide/indexing.html#returning-a-view-versus-a-copy\n",
      "\n",
      "  ResultTable[\"DT\"][\"f1_regression\"] = DT\n",
      "C:\\Users\\nravi378\\AppData\\Local\\Temp\\ipykernel_13704\\3972211358.py:6: FutureWarning: ChainedAssignmentError: behaviour will change in pandas 3.0!\n",
      "You are setting values through chained assignment. Currently this works in certain cases, but when using Copy-on-Write (which will become the default behaviour in pandas 3.0) this will never work to update the original DataFrame or Series, because the intermediate object on which we are setting values will behave as a copy.\n",
      "A typical example is when you are setting values in a column of a DataFrame, like:\n",
      "\n",
      "df[\"col\"][row_indexer] = value\n",
      "\n",
      "Use `df.loc[row_indexer, \"col\"] = values` instead, to perform the assignment in a single step and ensure this keeps updating the original `df`.\n",
      "\n",
      "See the caveats in the documentation: https://pandas.pydata.org/pandas-docs/stable/user_guide/indexing.html#returning-a-view-versus-a-copy\n",
      "\n",
      "  ResultTable[\"RF\"][\"f1_regression\"] = RF\n"
     ]
    },
    {
     "data": {
      "text/html": [
       "<div>\n",
       "<style scoped>\n",
       "    .dataframe tbody tr th:only-of-type {\n",
       "        vertical-align: middle;\n",
       "    }\n",
       "\n",
       "    .dataframe tbody tr th {\n",
       "        vertical-align: top;\n",
       "    }\n",
       "\n",
       "    .dataframe thead th {\n",
       "        text-align: right;\n",
       "    }\n",
       "</style>\n",
       "<table border=\"1\" class=\"dataframe\">\n",
       "  <thead>\n",
       "    <tr style=\"text-align: right;\">\n",
       "      <th></th>\n",
       "      <th>MLR</th>\n",
       "      <th>SVM</th>\n",
       "      <th>DT</th>\n",
       "      <th>RF</th>\n",
       "    </tr>\n",
       "  </thead>\n",
       "  <tbody>\n",
       "    <tr>\n",
       "      <th>f1_regression</th>\n",
       "      <td>0.959125</td>\n",
       "      <td>0.998535</td>\n",
       "      <td>0.99822</td>\n",
       "      <td>0.999074</td>\n",
       "    </tr>\n",
       "  </tbody>\n",
       "</table>\n",
       "</div>"
      ],
      "text/plain": [
       "                    MLR       SVM       DT        RF\n",
       "f1_regression  0.959125  0.998535  0.99822  0.999074"
      ]
     },
     "execution_count": 50,
     "metadata": {},
     "output_type": "execute_result"
    }
   ],
   "source": [
    "ResultTable = pd.DataFrame(columns = [\"MLR\",\"SVM\",\"DT\",\"RF\"], index = [\"f1_regression\"])\n",
    "\n",
    "ResultTable[\"MLR\"][\"f1_regression\"] = MLR\n",
    "ResultTable[\"SVM\"][\"f1_regression\"] = SVR\n",
    "ResultTable[\"DT\"][\"f1_regression\"] = DT\n",
    "ResultTable[\"RF\"][\"f1_regression\"] = RF\n",
    "\n",
    "\n",
    "ResultTable\n"
   ]
  },
  {
   "cell_type": "markdown",
   "id": "83ed679b-6cbf-41e6-8123-0e284bd11803",
   "metadata": {},
   "source": [
    "# Choosing Random Forest for having nearly R2 score value is 1."
   ]
  },
  {
   "cell_type": "code",
   "execution_count": 51,
   "id": "6ca47cc4-e475-494e-b4c4-b74c6f78f773",
   "metadata": {},
   "outputs": [],
   "source": [
    "import pickle\n",
    "filename = \"BestModel_for_RestaurantRevenue.sav\"\n",
    "pickle.dump(RF_regressor,open(filename,\"wb\"))"
   ]
  },
  {
   "cell_type": "code",
   "execution_count": 52,
   "id": "8fb98a37-8054-4ae0-bb0d-da96ae14d7b1",
   "metadata": {},
   "outputs": [],
   "source": [
    "from sklearn.preprocessing import StandardScaler\n",
    "pre_input=sc.transform([[34,59,0,1]])"
   ]
  },
  {
   "cell_type": "code",
   "execution_count": 56,
   "id": "1862bad0-ab2d-44f6-afdb-3057ff7404de",
   "metadata": {},
   "outputs": [
    {
     "data": {
      "text/plain": [
       "array([[468944.8653]])"
      ]
     },
     "execution_count": 56,
     "metadata": {},
     "output_type": "execute_result"
    }
   ],
   "source": [
    "Loaded_model = pickle.load(open(\"BestModel_for_RestaurantRevenue.sav\",\"rb\"))\n",
    "output_std = Loaded_model.predict(pre_input)\n",
    "Result = scy.inverse_transform([output_std])\n",
    "Result"
   ]
  },
  {
   "cell_type": "code",
   "execution_count": 57,
   "id": "232844a7-9004-4fd6-af5e-e89860c339d5",
   "metadata": {},
   "outputs": [
    {
     "data": {
      "text/plain": [
       "Index(['Seating Capacity', 'Average Meal Price', 'Location_Rural',\n",
       "       'Cuisine_Japanese'],\n",
       "      dtype='object')"
      ]
     },
     "execution_count": 57,
     "metadata": {},
     "output_type": "execute_result"
    }
   ],
   "source": [
    "selected_features"
   ]
  },
  {
   "cell_type": "code",
   "execution_count": null,
   "id": "5295d52b-6807-451f-ac66-fc325ad1a390",
   "metadata": {},
   "outputs": [],
   "source": []
  },
  {
   "cell_type": "code",
   "execution_count": null,
   "id": "34b2be5f-7c44-41b6-8aef-7c4220f68431",
   "metadata": {},
   "outputs": [],
   "source": []
  }
 ],
 "metadata": {
  "kernelspec": {
   "display_name": "Python 3 (ipykernel)",
   "language": "python",
   "name": "python3"
  },
  "language_info": {
   "codemirror_mode": {
    "name": "ipython",
    "version": 3
   },
   "file_extension": ".py",
   "mimetype": "text/x-python",
   "name": "python",
   "nbconvert_exporter": "python",
   "pygments_lexer": "ipython3",
   "version": "3.10.14"
  }
 },
 "nbformat": 4,
 "nbformat_minor": 5
}

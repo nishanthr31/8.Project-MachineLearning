{
 "cells": [
  {
   "cell_type": "code",
   "execution_count": 2,
   "id": "7bc16d51-3faa-4292-bd9b-391d96f77d10",
   "metadata": {},
   "outputs": [
    {
     "name": "stderr",
     "output_type": "stream",
     "text": [
      "C:\\Users\\nravi378\\AppData\\Local\\anaconda3\\envs\\art\\lib\\site-packages\\sklearn\\utils\\validation.py:1300: DataConversionWarning: A column-vector y was passed when a 1d array was expected. Please change the shape of y to (n_samples, ), for example using ravel().\n",
      "  y = column_or_1d(y, warn=True)\n"
     ]
    }
   ],
   "source": [
    "import pandas as pd\n",
    "dataset = pd.read_csv(\"Preprocessed_RestaruantData.csv\")\n",
    "indep = dataset[['Rating', 'Seating Capacity', 'Average Meal Price',\n",
    "       'Marketing Budget', 'Social Media Followers', 'Chef Experience Years',\n",
    "       'Number of Reviews', 'Avg Review Length', 'Ambience Score',\n",
    "       'Service Quality Score', 'Weekend Reservations', 'Weekday Reservations', 'Location_Rural', 'Location_Suburban', 'Cuisine_French',\n",
    "       'Cuisine_Indian', 'Cuisine_Italian', 'Cuisine_Japanese',\n",
    "       'Cuisine_Mexican', 'Parking Availability_Yes']]\n",
    "dep = dataset[['Revenue']]\n",
    "from sklearn.feature_selection import SelectKBest\n",
    "from sklearn.feature_selection import f_regression\n",
    "test = SelectKBest(score_func=f_regression, k=4)\n",
    "fit1= test.fit(indep,dep)\n",
    "# summarize scores       \n",
    "selectk_features = fit1.transform(indep)\n",
    "mask = fit1.get_support() #get_support() returns a boolean array where each element is True if the corresponding feature was selected and False otherwise.\n",
    "selected_features = indep.columns[mask] #The boolean mask is used to filter these column names, so only the names of the selected features are \n",
    "\n",
    "from sklearn.preprocessing import StandardScaler\n",
    "sc = StandardScaler()\n",
    "indep_X= sc.fit_transform(selectk_features)\n",
    "\n",
    "scy = StandardScaler()\n",
    "dep_Y = scy.fit_transform(dep)\n",
    "\n"
   ]
  },
  {
   "cell_type": "code",
   "execution_count": 3,
   "id": "c772cb7e-628a-40f5-9042-e96561601b26",
   "metadata": {},
   "outputs": [
    {
     "data": {
      "text/plain": [
       "array([[468944.8653]])"
      ]
     },
     "execution_count": 3,
     "metadata": {},
     "output_type": "execute_result"
    }
   ],
   "source": [
    "pre_input=sc.transform([[34,59,0,1]])\n",
    "Loaded_model = pickle.load(open(\"BestModel_for_RestaurantRevenue.sav\",\"rb\"))\n",
    "output_std = Loaded_model.predict(pre_input)\n",
    "Result = scy.inverse_transform([output_std])\n",
    "Result"
   ]
  },
  {
   "cell_type": "code",
   "execution_count": null,
   "id": "375f158f-8285-4865-a253-82067fe0ef87",
   "metadata": {},
   "outputs": [],
   "source": []
  }
 ],
 "metadata": {
  "kernelspec": {
   "display_name": "Python 3 (ipykernel)",
   "language": "python",
   "name": "python3"
  },
  "language_info": {
   "codemirror_mode": {
    "name": "ipython",
    "version": 3
   },
   "file_extension": ".py",
   "mimetype": "text/x-python",
   "name": "python",
   "nbconvert_exporter": "python",
   "pygments_lexer": "ipython3",
   "version": "3.10.14"
  }
 },
 "nbformat": 4,
 "nbformat_minor": 5
}
